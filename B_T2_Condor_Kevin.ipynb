{
  "nbformat": 4,
  "nbformat_minor": 0,
  "metadata": {
    "colab": {
      "provenance": [],
      "include_colab_link": true
    },
    "kernelspec": {
      "name": "python3",
      "display_name": "Python 3"
    },
    "language_info": {
      "name": "python"
    }
  },
  "cells": [
    {
      "cell_type": "markdown",
      "metadata": {
        "id": "view-in-github",
        "colab_type": "text"
      },
      "source": [
        "<a href=\"https://colab.research.google.com/github/KevC17/Trabajo2/blob/main/B_T2_Condor_Kevin.ipynb\" target=\"_parent\"><img src=\"https://colab.research.google.com/assets/colab-badge.svg\" alt=\"Open In Colab\"/></a>"
      ]
    },
    {
      "cell_type": "markdown",
      "source": [
        "Trabajo 2 - Tic"
      ],
      "metadata": {
        "id": "dpV0GaQcf6Nj"
      }
    },
    {
      "cell_type": "markdown",
      "source": [
        "1. Escriba un programa que imprima hola mundo"
      ],
      "metadata": {
        "id": "NuADYyRRgkwh"
      }
    },
    {
      "cell_type": "code",
      "execution_count": null,
      "metadata": {
        "colab": {
          "base_uri": "https://localhost:8080/"
        },
        "id": "VLQ1kZRRfvBg",
        "outputId": "f131b50a-b439-4d1d-9afa-0e47c00097fe"
      },
      "outputs": [
        {
          "output_type": "stream",
          "name": "stdout",
          "text": [
            "hola mundo\n"
          ]
        }
      ],
      "source": [
        "#Imprime \"Hola mundo\"\n",
        "print(\"Hola mundo\")"
      ]
    },
    {
      "cell_type": "markdown",
      "source": [
        "2. Escriba un programa que pida 2 números al usuario y los sume"
      ],
      "metadata": {
        "id": "uLJ24sI1gpe5"
      }
    },
    {
      "cell_type": "code",
      "source": [
        "#Pide el ingreso de un numero\n",
        "num1 = int(input(\"Ingrese el primer numero\"))\n",
        "\n",
        "#Pide el ingreso de un seguno numero\n",
        "num2 = int(input(\"Ingrese el segundo numero\"))\n",
        "\n",
        "#imprime la suma de 2 num1 y num2\n",
        "print(\"La suma es: \", num1+num2)"
      ],
      "metadata": {
        "id": "-h-l-8fVoxzJ"
      },
      "execution_count": null,
      "outputs": []
    },
    {
      "cell_type": "markdown",
      "source": [
        "3. Determine si el número es par o impa"
      ],
      "metadata": {
        "id": "9v-LupUvhR_F"
      }
    },
    {
      "cell_type": "code",
      "source": [
        "#Pide que ingrese un numero al usuario\n",
        "num = int(input(\"Ingrese un numero: \"))\n",
        "\n",
        "#Hace la comprobacion si es par o impar\n",
        "if  num%2 == 0:\n",
        "    print(\"El numero es par\")\n",
        "else:\n",
        "    print(\"El numero es impar\")"
      ],
      "metadata": {
        "id": "1Dxq2k_7o0ej"
      },
      "execution_count": null,
      "outputs": []
    },
    {
      "cell_type": "markdown",
      "source": [
        "4. Calculadora simple"
      ],
      "metadata": {
        "id": "l5ujRIk_o_PE"
      }
    },
    {
      "cell_type": "code",
      "source": [
        "#Pide al usuario que ingrese 2 numeros\n",
        "num1 = int(input(\"Ingrese un numero: \"))\n",
        "num2 = int(input(\"Ingrese otro numero: \"))\n",
        "\n",
        "opcion = input(\"Ingrese la operacion que desea realizar: \")\n",
        "\n",
        "if opcion == \"suma\":\n",
        "    print(\"La suma es: \", num1+num2)\n",
        "elif opcion == \"resta\":\n",
        "    print(\"La resta es: \", num1-num2)\n",
        "elif opcion == \"multiplicacion\":\n",
        "    print(\"La multiplicacion es: \", num1*num2)\n",
        "elif opcion == \"resta\":\n",
        "    print(\"La division es: \", num1/num2)\n",
        "else:\n",
        "    print(\"Opcion no valida\")"
      ],
      "metadata": {
        "id": "vSattSsvpDaA"
      },
      "execution_count": null,
      "outputs": []
    },
    {
      "cell_type": "markdown",
      "source": [
        "5. Número mayor"
      ],
      "metadata": {
        "id": "mNdzkKfMpLLJ"
      }
    },
    {
      "cell_type": "code",
      "source": [
        "#Pide al usuario que ingrese 2 numeros\n",
        "num1 = int(input(\"Ingrese el primer numero: \"))\n",
        "num2 = int(input(\"Ingrese el segundo numero: \"))\n",
        "num3 = int(input(\"Ingrese el tercer numero: \"))\n",
        "\n",
        "lista = [num1,num2,num3]\n",
        "lista.sort()\n",
        "\n",
        "print(\"El numero mayor es: \", lista[2])"
      ],
      "metadata": {
        "id": "0Gvs4wq5pPnb"
      },
      "execution_count": null,
      "outputs": []
    },
    {
      "cell_type": "markdown",
      "source": [
        "6. Área de un círculo"
      ],
      "metadata": {
        "id": "KdIGpsSCpYdM"
      }
    },
    {
      "cell_type": "code",
      "source": [
        "#Area de un circulo\n",
        "import  math\n",
        "radio = int(input(\"Ingrese el radio del circulo: \"))\n",
        "print(\"El area del circulo es: \", math.pi*(radio**2))"
      ],
      "metadata": {
        "id": "lfM_3f6Rpdf8"
      },
      "execution_count": null,
      "outputs": []
    },
    {
      "cell_type": "markdown",
      "source": [
        "7. Conversión de grados Celsius a Farenheit"
      ],
      "metadata": {
        "id": "9v25cHV1pkWl"
      }
    },
    {
      "cell_type": "code",
      "source": [
        "#Conversion C a F\n",
        "grados = int(input(\"Ingrese los grados celsius: \"))\n",
        "print(\"La conversion en grados Farenheint es: \", (grados*9/5)+32)"
      ],
      "metadata": {
        "id": "dEQKKVG1psoW"
      },
      "execution_count": null,
      "outputs": []
    }
  ]
}